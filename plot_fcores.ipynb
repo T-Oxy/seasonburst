{
 "cells": [
  {
   "cell_type": "code",
   "execution_count": 1,
   "metadata": {},
   "outputs": [],
   "source": [
    "# 標準ライブラリ\n",
    "import os\n",
    "import datetime as dt\n",
    "from datetime import timedelta\n",
    "from statistics import mean, median,variance,stdev\n",
    "import itertools\n",
    "# サードパーティライブラリ\n",
    "import numpy as np\n",
    "import pandas as pd\n",
    "import burst_detection as bd\n",
    "\n",
    "from matplotlib import pyplot as plt\n",
    "from matplotlib import dates as mdates\n",
    "from matplotlib.dates import DateFormatter\n",
    "import matplotlib.ticker as ticker\n",
    "from matplotlib.dates import date2num"
   ]
  },
  {
   "cell_type": "code",
   "execution_count": 2,
   "metadata": {},
   "outputs": [],
   "source": [
    "prefs = ['tk', 'hk', 'is']\n",
    "flags = [\"icho\", \"kaede\", \"koyo\"]"
   ]
  },
  {
   "cell_type": "code",
   "execution_count": 3,
   "metadata": {},
   "outputs": [],
   "source": [
    "out_path = \"./result/04graph/\"\n",
    "os.makedirs(out_path, exist_ok=True)\n",
    "\n",
    "rates = range(10, 101, 10)"
   ]
  },
  {
   "cell_type": "code",
   "execution_count": 47,
   "metadata": {},
   "outputs": [],
   "source": [
    "def fscore_read(path, pref, flag):\n",
    "    info = pd.read_csv(path, index_col=0)\n",
    "\n",
    "    return (pref, flag, info[\"rate\"], info[\"fscore\"])"
   ]
  },
  {
   "cell_type": "code",
   "execution_count": 58,
   "metadata": {},
   "outputs": [],
   "source": [
    "def plot_fscores(*args):\n",
    "    figure_ = plt.figure()  # Figure作成\n",
    "    axes_ = figure_.add_subplot(111)  # Axes作成\n",
    "    \n",
    "    yaxis_ = axes_.yaxis  # YAxis取得\n",
    "    \n",
    "#     y_nums = [0.0,0.1,0.2,0.3,0.4,0.5,0.6,0.7,0.8,0.9,1.0]\n",
    "#     axes_.yaxis.set_major_locator(ticker.FixedLocator(y_nums))\n",
    "#     axes_.set_ylim(ymin=0)\n",
    "    \n",
    "    x_nums = [10, 20, 30, 40, 50, 60, 70, 80, 90, 100]\n",
    "    axes_.xaxis.set_major_locator(ticker.FixedLocator(x_nums))\n",
    "    \n",
    "    for arg in args:\n",
    "        axes_.plot(rates, arg[3], label=arg[1])\n",
    "    \n",
    "    plt.legend()\n",
    "    \n",
    "    fname = f\"hogehoge.png\"\n",
    "    plt.savefig(out_path + fname, format=\"png\", dpi=300)\n",
    "    plt.show()\n",
    "    plt.close()"
   ]
  },
  {
   "cell_type": "code",
   "execution_count": 61,
   "metadata": {},
   "outputs": [
    {
     "data": {
      "image/png": "[encoded data removed]",
      "text/plain": [
       "<Figure size 432x288 with 1 Axes>"
      ]
     },
     "metadata": {
      "needs_background": "light"
     },
     "output_type": "display_data"
    }
   ],
   "source": [
    "pref = \"tk\"\n",
    "flag = \"icho\"\n",
    "icho = fscore_read(f\"./result/03fscores/icho/tk_icho.csv\", pref, flag)\n",
    "insec = fscore_read(f\"./result/03fscores/icho/tk_insec.csv\", pref, \"intersection\")\n",
    "\n",
    "plot_fscores(icho, insec)"
   ]
  },
  {
   "cell_type": "code",
   "execution_count": 62,
   "metadata": {},
   "outputs": [
    {
     "data": {
      "text/plain": [
       "('tk',\n",
       " 'intersection',\n",
       " 0     10.0\n",
       " 1     20.0\n",
       " 2     30.0\n",
       " 3     40.0\n",
       " 4     50.0\n",
       " 5     60.0\n",
       " 6     70.0\n",
       " 7     80.0\n",
       " 8     90.0\n",
       " 9    100.0\n",
       " Name: rate, dtype: float64,\n",
       " 0    0.545455\n",
       " 1    0.521739\n",
       " 2    0.521739\n",
       " 3    0.521739\n",
       " 4    0.521739\n",
       " 5    0.521739\n",
       " 6    0.521739\n",
       " 7    0.521739\n",
       " 8    0.521739\n",
       " 9    0.521739\n",
       " Name: fscore, dtype: float64)"
      ]
     },
     "execution_count": 62,
     "metadata": {},
     "output_type": "execute_result"
    }
   ],
   "source": [
    "insec"
   ]
  },
  {
   "cell_type": "code",
   "execution_count": 44,
   "metadata": {},
   "outputs": [],
   "source": [
    "tk = {}\n",
    "\n",
    "pref = \"is\"\n",
    "for flag in flags:\n",
    "    tk[flag] = fscore_read(f\"./result/03fscores/all/{pref}_{flag}.csv\", pref, flag)\n"
   ]
  },
  {
   "cell_type": "code",
   "execution_count": 45,
   "metadata": {},
   "outputs": [
    {
     "data": {
      "image/png": "[encoded data removed]",
      "text/plain": [
       "<Figure size 432x288 with 1 Axes>"
      ]
     },
     "metadata": {
      "needs_background": "light"
     },
     "output_type": "display_data"
    }
   ],
   "source": [
    "plot_fscores(tk[\"icho\"], tk[\"kaede\"], tk[\"koyo\"])"
   ]
  },
  {
   "cell_type": "code",
   "execution_count": 51,
   "metadata": {},
   "outputs": [
    {
     "data": {
      "text/html": [
       "<div>\n",
       "<style scoped>\n",
       "    .dataframe tbody tr th:only-of-type {\n",
       "        vertical-align: middle;\n",
       "    }\n",
       "\n",
       "    .dataframe tbody tr th {\n",
       "        vertical-align: top;\n",
       "    }\n",
       "\n",
       "    .dataframe thead th {\n",
       "        text-align: right;\n",
       "    }\n",
       "</style>\n",
       "<table border=\"1\" class=\"dataframe\">\n",
       "  <thead>\n",
       "    <tr style=\"text-align: right;\">\n",
       "      <th></th>\n",
       "      <th>rate</th>\n",
       "      <th>fscore</th>\n",
       "      <th>recall</th>\n",
       "      <th>precision</th>\n",
       "    </tr>\n",
       "  </thead>\n",
       "  <tbody>\n",
       "    <tr>\n",
       "      <th>0</th>\n",
       "      <td>10</td>\n",
       "      <td>0</td>\n",
       "      <td>0</td>\n",
       "      <td>0</td>\n",
       "    </tr>\n",
       "    <tr>\n",
       "      <th>1</th>\n",
       "      <td>20</td>\n",
       "      <td>0</td>\n",
       "      <td>0</td>\n",
       "      <td>0</td>\n",
       "    </tr>\n",
       "    <tr>\n",
       "      <th>2</th>\n",
       "      <td>30</td>\n",
       "      <td>0</td>\n",
       "      <td>0</td>\n",
       "      <td>0</td>\n",
       "    </tr>\n",
       "    <tr>\n",
       "      <th>3</th>\n",
       "      <td>40</td>\n",
       "      <td>0</td>\n",
       "      <td>0</td>\n",
       "      <td>0</td>\n",
       "    </tr>\n",
       "    <tr>\n",
       "      <th>4</th>\n",
       "      <td>50</td>\n",
       "      <td>0</td>\n",
       "      <td>0</td>\n",
       "      <td>0</td>\n",
       "    </tr>\n",
       "    <tr>\n",
       "      <th>5</th>\n",
       "      <td>60</td>\n",
       "      <td>0</td>\n",
       "      <td>0</td>\n",
       "      <td>0</td>\n",
       "    </tr>\n",
       "    <tr>\n",
       "      <th>6</th>\n",
       "      <td>70</td>\n",
       "      <td>0</td>\n",
       "      <td>0</td>\n",
       "      <td>0</td>\n",
       "    </tr>\n",
       "    <tr>\n",
       "      <th>7</th>\n",
       "      <td>80</td>\n",
       "      <td>0</td>\n",
       "      <td>0</td>\n",
       "      <td>0</td>\n",
       "    </tr>\n",
       "    <tr>\n",
       "      <th>8</th>\n",
       "      <td>90</td>\n",
       "      <td>0</td>\n",
       "      <td>0</td>\n",
       "      <td>0</td>\n",
       "    </tr>\n",
       "    <tr>\n",
       "      <th>9</th>\n",
       "      <td>100</td>\n",
       "      <td>0</td>\n",
       "      <td>0</td>\n",
       "      <td>0</td>\n",
       "    </tr>\n",
       "  </tbody>\n",
       "</table>\n",
       "</div>"
      ],
      "text/plain": [
       "   rate  fscore  recall  precision\n",
       "0    10       0       0          0\n",
       "1    20       0       0          0\n",
       "2    30       0       0          0\n",
       "3    40       0       0          0\n",
       "4    50       0       0          0\n",
       "5    60       0       0          0\n",
       "6    70       0       0          0\n",
       "7    80       0       0          0\n",
       "8    90       0       0          0\n",
       "9   100       0       0          0"
      ]
     },
     "execution_count": 51,
     "metadata": {},
     "output_type": "execute_result"
    }
   ],
   "source": [
    "is00 = pd.read_csv(f\"./result/03fscores/all/is_koyo.csv\", index_col=0)\n",
    "is00"
   ]
  },
  {
   "cell_type": "code",
   "execution_count": 54,
   "metadata": {},
   "outputs": [
    {
     "data": {
      "text/html": [
       "<div>\n",
       "<style scoped>\n",
       "    .dataframe tbody tr th:only-of-type {\n",
       "        vertical-align: middle;\n",
       "    }\n",
       "\n",
       "    .dataframe tbody tr th {\n",
       "        vertical-align: top;\n",
       "    }\n",
       "\n",
       "    .dataframe thead th {\n",
       "        text-align: right;\n",
       "    }\n",
       "</style>\n",
       "<table border=\"1\" class=\"dataframe\">\n",
       "  <thead>\n",
       "    <tr style=\"text-align: right;\">\n",
       "      <th></th>\n",
       "      <th>rate</th>\n",
       "      <th>fscore</th>\n",
       "      <th>recall</th>\n",
       "      <th>precision</th>\n",
       "    </tr>\n",
       "  </thead>\n",
       "  <tbody>\n",
       "    <tr>\n",
       "      <th>0</th>\n",
       "      <td>10.0</td>\n",
       "      <td>0.000000</td>\n",
       "      <td>0.00000</td>\n",
       "      <td>0.000000</td>\n",
       "    </tr>\n",
       "    <tr>\n",
       "      <th>1</th>\n",
       "      <td>20.0</td>\n",
       "      <td>0.000000</td>\n",
       "      <td>0.00000</td>\n",
       "      <td>0.000000</td>\n",
       "    </tr>\n",
       "    <tr>\n",
       "      <th>2</th>\n",
       "      <td>30.0</td>\n",
       "      <td>0.520000</td>\n",
       "      <td>0.40625</td>\n",
       "      <td>0.722222</td>\n",
       "    </tr>\n",
       "    <tr>\n",
       "      <th>3</th>\n",
       "      <td>40.0</td>\n",
       "      <td>0.520000</td>\n",
       "      <td>0.40625</td>\n",
       "      <td>0.722222</td>\n",
       "    </tr>\n",
       "    <tr>\n",
       "      <th>4</th>\n",
       "      <td>50.0</td>\n",
       "      <td>0.419355</td>\n",
       "      <td>0.40625</td>\n",
       "      <td>0.433333</td>\n",
       "    </tr>\n",
       "    <tr>\n",
       "      <th>5</th>\n",
       "      <td>60.0</td>\n",
       "      <td>0.000000</td>\n",
       "      <td>0.00000</td>\n",
       "      <td>0.000000</td>\n",
       "    </tr>\n",
       "    <tr>\n",
       "      <th>6</th>\n",
       "      <td>70.0</td>\n",
       "      <td>0.419355</td>\n",
       "      <td>0.40625</td>\n",
       "      <td>0.433333</td>\n",
       "    </tr>\n",
       "    <tr>\n",
       "      <th>7</th>\n",
       "      <td>80.0</td>\n",
       "      <td>0.419355</td>\n",
       "      <td>0.40625</td>\n",
       "      <td>0.433333</td>\n",
       "    </tr>\n",
       "    <tr>\n",
       "      <th>8</th>\n",
       "      <td>90.0</td>\n",
       "      <td>0.000000</td>\n",
       "      <td>0.00000</td>\n",
       "      <td>0.000000</td>\n",
       "    </tr>\n",
       "    <tr>\n",
       "      <th>9</th>\n",
       "      <td>100.0</td>\n",
       "      <td>0.280702</td>\n",
       "      <td>0.25000</td>\n",
       "      <td>0.320000</td>\n",
       "    </tr>\n",
       "  </tbody>\n",
       "</table>\n",
       "</div>"
      ],
      "text/plain": [
       "    rate    fscore   recall  precision\n",
       "0   10.0  0.000000  0.00000   0.000000\n",
       "1   20.0  0.000000  0.00000   0.000000\n",
       "2   30.0  0.520000  0.40625   0.722222\n",
       "3   40.0  0.520000  0.40625   0.722222\n",
       "4   50.0  0.419355  0.40625   0.433333\n",
       "5   60.0  0.000000  0.00000   0.000000\n",
       "6   70.0  0.419355  0.40625   0.433333\n",
       "7   80.0  0.419355  0.40625   0.433333\n",
       "8   90.0  0.000000  0.00000   0.000000\n",
       "9  100.0  0.280702  0.25000   0.320000"
      ]
     },
     "execution_count": 54,
     "metadata": {},
     "output_type": "execute_result"
    }
   ],
   "source": [
    "hk = pd.read_csv(f\"./result/03fscores/all/hk_koyo.csv\", index_col=0)\n",
    "hk"
   ]
  },
  {
   "cell_type": "code",
   "execution_count": null,
   "metadata": {},
   "outputs": [],
   "source": [
    "\n",
    "\n",
    "\n",
    "\n",
    "icho = pd.read_csv(\"./result/03fscores/koyo/tk_koyo.csv\", index_col=0)\n",
    "ukoyo1_icho = pd.read_csv(\"./result/03fscores/koyo/tk_koyo_icho.csv\", index_col=0)"
   ]
  },
  {
   "cell_type": "code",
   "execution_count": null,
   "metadata": {},
   "outputs": [],
   "source": [
    "plot_fscores([\"tk\", \"koyo\", icho[\"rate\"], icho[\"fscore\"]], [\"tk\", \"koyo+icho\", ukoyo1_icho[\"rate\"], ukoyo1_icho[\"fscore\"]])"
   ]
  },
  {
   "cell_type": "code",
   "execution_count": null,
   "metadata": {},
   "outputs": [],
   "source": []
  },
  {
   "cell_type": "code",
   "execution_count": null,
   "metadata": {},
   "outputs": [],
   "source": []
  }
 ],
 "metadata": {
  "kernelspec": {
   "display_name": "Python 3",
   "language": "python",
   "name": "python3"
  },
  "language_info": {
   "codemirror_mode": {
    "name": "ipython",
    "version": 3
   },
   "file_extension": ".py",
   "mimetype": "text/x-python",
   "name": "python",
   "nbconvert_exporter": "python",
   "pygments_lexer": "ipython3",
   "version": "3.8.3"
  }
 },
 "nbformat": 4,
 "nbformat_minor": 4
}
