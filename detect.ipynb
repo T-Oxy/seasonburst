{
 "cells": [
  {
   "cell_type": "code",
   "execution_count": 1,
   "metadata": {},
   "outputs": [
    {
     "name": "stdout",
     "output_type": "stream",
     "text": [
      "3.7.9 (default, Aug 31 2020, 07:22:35) \n",
      "[Clang 10.0.0 ]\n"
     ]
    }
   ],
   "source": [
    "import sys\n",
    "print(sys.version)"
   ]
  },
  {
   "cell_type": "markdown",
   "metadata": {},
   "source": [
    "### import"
   ]
  },
  {
   "cell_type": "code",
   "execution_count": 1,
   "metadata": {},
   "outputs": [],
   "source": [
    "# 標準ライブラリ\n",
    "import os\n",
    "import datetime as dt\n",
    "from datetime import timedelta\n",
    "from statistics import mean, median,variance,stdev\n",
    "import itertools\n",
    "# サードパーティライブラリ\n",
    "import numpy as np\n",
    "import pandas as pd\n",
    "import burst_detection as bd"
   ]
  },
  {
   "cell_type": "markdown",
   "metadata": {},
   "source": [
    "### 連続した日付データ作成 date_range()\n",
    "閉区間[start, end]の範囲で出力する"
   ]
  },
  {
   "cell_type": "code",
   "execution_count": 2,
   "metadata": {},
   "outputs": [],
   "source": [
    "def date_range(start, end):\n",
    "    for n in range((end - start).days + 1):\n",
    "        yield start + timedelta(n)"
   ]
  },
  {
   "cell_type": "markdown",
   "metadata": {},
   "source": [
    "## 変数 定数"
   ]
  },
  {
   "cell_type": "code",
   "execution_count": 3,
   "metadata": {},
   "outputs": [],
   "source": [
    "# gamma: \n",
    "# 基本的に値が高ければ高いほど、バーストが立ち上がりにくくなるパラメータなのでこれの調整の優先度は低いと思います。\n",
    "# とりあえずgamma＝1とかに設定しておくのがいいです。\n",
    "# s: \n",
    "# 値が高ければ高いほど、バーストが分割される傾向にあるので、1.1~2の範囲で試してみるのがいいかも\n",
    "param_s = 1.5# 2.0\n",
    "param_gamma = 1.0 # 1.0\n",
    "\n",
    "# RESULT_DIR = \"/Users/daigo/workspace/koyo/result/\"\n",
    "RESULT_DIR = \"/Users/user/Desktop/koyo/result_01/\"\n",
    "\n",
    "total_count_dir = RESULT_DIR + \"00total_count/\"\n",
    "rtweets_count_dir = RESULT_DIR + \"02rtweets_count/\"\n",
    "\n",
    "out_path = f\"{RESULT_DIR}graph/s{param_s}gamma{param_gamma}/\"\n",
    "\n",
    "# out_path = f\"{RESULT_DIR}graph/sakura/s{param_s}gamma{param_gamma}/\"\n",
    "# sakura を推定するときはout_path注意。\n",
    "\n",
    "RATES = range(10, 101, 10)\n",
    "prefs = ['tk', 'hk', 'is'] # ['tk', 'hk', 'is']\n",
    "flags = [\"icho\", \"kaede\", \"sonota\", \"koyo\"]# [\"insec\"] [\"koyo_icho\"][\"ukoyo1_icho\"]  # [\"icho\", \"kaede\", \"sonota\", \"koyo\", \"jumoku\"] , \"sakura\""
   ]
  },
  {
   "cell_type": "code",
   "execution_count": 4,
   "metadata": {},
   "outputs": [],
   "source": [
    "CORRECTS = {\n",
    "    \"tk\": {\n",
    "        \"kaede\": {\"start\": dt.date(2015, 12, 4), \"end\": dt.date(2015, 12, 12)},\n",
    "        \"icho\": {\"start\": dt.date(2015, 11, 30), \"end\": dt.date(2015, 12, 11)},\n",
    "        \"sakura\": {\"start\": dt.date(2015, 3, 23), \"end\": dt.date(2015, 3, 29)},\n",
    "    },\n",
    "    \"hk\": {\n",
    "        \"kaede\": {\"start\": dt.date(2015, 10, 29), \"end\": dt.date(2015, 11, 29)},\n",
    "        \"icho\": {\"start\": dt.date(2015, 11, 2), \"end\": dt.date(2015, 11, 12)},\n",
    "        \"sakura\": {\"start\": dt.date(2015, 4, 22), \"end\": dt.date(2015, 4, 26)}\n",
    "    },\n",
    "    \"is\": {\n",
    "        \"kaede\": {\"start\": dt.date(2015, 11, 22), \"end\": dt.date(2015, 12, 3)},\n",
    "        \"icho\": {\"start\": dt.date(2015, 11, 4), \"end\": dt.date(2015, 11, 10)},\n",
    "        \"sakura\": {\"start\": dt.date(2015, 3, 31), \"end\": dt.date(2015, 4, 4)}\n",
    "    }\n",
    "}\n",
    "\n",
    "end = dt.date(2015, 12, 31)\n",
    "\n",
    "sakura_dates = [date for date in date_range(dt.date(2015, 2, 17), end) ]\n",
    "koyo_short_dates = [date for date in date_range(dt.date(2015, 10, 1), end)]                  \n",
    "koyo_long_dates = [date for date in date_range(dt.date(2015, 8, 15), end)]\n",
    "\n",
    "# dates = koyo_long_dates  # ここを変えれば期間が変わる（ようにする予定）"
   ]
  },
  {
   "cell_type": "markdown",
   "metadata": {},
   "source": [
    "## 関数宣言"
   ]
  },
  {
   "cell_type": "markdown",
   "metadata": {},
   "source": [
    "### バースト検出"
   ]
  },
  {
   "cell_type": "code",
   "execution_count": 5,
   "metadata": {},
   "outputs": [],
   "source": [
    "def burst_detection(target_counts, total_counts):\n",
    "    #number of target events at each time point\n",
    "    r = np.array(target_counts, dtype=float)\n",
    "    \n",
    "    #total number of events at each time point\n",
    "    d = np.array(total_counts, dtype=float)\n",
    "    \n",
    "    #number of time points\n",
    "    n = len(r)\n",
    "\n",
    "    q, d, r, p = bd.burst_detection(r,d,n,s=param_s, gamma=param_gamma, smooth_win=1)\n",
    "    \n",
    "    \"\"\"\n",
    "    bursts = bd.enumerate_bursts(q, 'burstLabel')\n",
    "    \n",
    "    #find weight of bursts\n",
    "    weighted_bursts = bd.burst_weights(bursts,r,d,p)\n",
    "    \n",
    "    print('observed probabilities: ') \n",
    "    print(str(r/d) )\n",
    "    print( 'optimal state sequence: ')\n",
    "    print(str(q.T) )\n",
    "    print( 'baseline probability: ' + str(p[0]) )\n",
    "    print( 'bursty probability: ' + str(p[1]) )\n",
    "    \"\"\"\n",
    "    \n",
    "    return(q)"
   ]
  },
  {
   "cell_type": "markdown",
   "metadata": {},
   "source": [
    "### 見頃plot"
   ]
  },
  {
   "cell_type": "code",
   "execution_count": 6,
   "metadata": {},
   "outputs": [],
   "source": [
    "from matplotlib import pyplot as plt\n",
    "from matplotlib import dates as mdates\n",
    "from matplotlib.dates import DateFormatter\n",
    "import matplotlib.ticker as ticker\n",
    "from matplotlib.dates import date2num\n",
    "\n",
    "def plot_migoro(dates, q, pref, flag, rate):\n",
    "    \n",
    "    if flag == \"sakura\":\n",
    "        x = dates[0:90]\n",
    "        q = q[0:90]\n",
    "    else: \n",
    "        x = dates\n",
    "    \n",
    "    y_correct = []\n",
    "    if flag == \"sakura\":\n",
    "        for date in x:\n",
    "            if CORRECTS[pref][flag]['start'] <= date <= CORRECTS[pref][flag]['end']:\n",
    "                y_correct.append(1)\n",
    "            else:\n",
    "                y_correct.append(0)\n",
    "    elif flag == \"sonota\" or flag == \"koyo\" or flag == \"jumoku\" or flag == \"koyo_icho\":\n",
    "        for date in x:\n",
    "            if ( CORRECTS[pref][\"kaede\"]['start'] <= date <= CORRECTS[pref][\"kaede\"]['end']\n",
    "                or CORRECTS[pref][\"icho\"]['start'] <= date <= CORRECTS[pref][\"icho\"]['end']):\n",
    "                y_correct.append(1)\n",
    "            else:\n",
    "                y_correct.append(0)\n",
    "    else: \n",
    "        for date in x:\n",
    "            if  CORRECTS[pref][flag]['start'] <= date <= CORRECTS[pref][flag]['end']:\n",
    "                y_correct.append(1)\n",
    "            else: \n",
    "                 y_correct.append(0)\n",
    "                    \n",
    "    figure_ = plt.figure()  # Figure作成\n",
    "    figure_.text(0.2, 0.5, str(pref) + \": \" + str(flag), fontsize=20)\n",
    "    figure_.text(0.2, 0.4, \"rate = \" + str(rate), fontsize=20)\n",
    "    \n",
    "    axes_ = figure_.add_subplot(111)  # Axes作成\n",
    "    xaxis_ = axes_.xaxis  # XAxis取得\n",
    "    \n",
    "    x_numdate = date2num([\n",
    "        dt.date(2015, 8, 15), \n",
    "        dt.date(2015, 9, 1), dt.date(2015, 9, 15), \n",
    "        dt.date(2015, 10, 1), dt.date(2015, 10, 15), \n",
    "        dt.date(2015, 11, 1), dt.date(2015, 11, 15), \n",
    "        dt.date(2015, 12, 1), dt.date(2015, 12, 15), dt.date(2015, 12, 31)\n",
    "    ])\n",
    "    if flag == \"sakura\":\n",
    "        x_numdate = date2num([\n",
    "        dt.date(2015, 2, 17), \n",
    "        dt.date(2015, 3, 15), dt.date(2015, 4, 1), \n",
    "        dt.date(2015, 4, 15), dt.date(2015, 5, 1), \n",
    "        dt.date(2015, 5, 15)\n",
    "    ])\n",
    "    \n",
    "    axes_.xaxis.set_major_locator(ticker.FixedLocator(x_numdate))\n",
    "    axes_.tick_params(axis='x', rotation=270)\n",
    "    xaxis_.set_major_formatter(DateFormatter('%m-%d'))\n",
    "    \n",
    "    axes_.plot(x, y_correct, label='correct')\n",
    "    axes_.plot(x, q, label='burst')\n",
    "    plt.legend()\n",
    "    \n",
    "\n",
    "    fname = f\"{flag}_{str(rate).zfill(3)}.png\"\n",
    "    \n",
    "    os.makedirs(out_path + f\"{pref}/\", exist_ok=True)\n",
    "    plt.savefig(out_path + f\"{pref}/\" + fname, format=\"png\", dpi=300)\n",
    "    # plt.show()\n",
    "    \n",
    "    plt.close()"
   ]
  },
  {
   "cell_type": "markdown",
   "metadata": {},
   "source": [
    "### F値算出<br>evaluate(result, pref, flag)"
   ]
  },
  {
   "cell_type": "code",
   "execution_count": 7,
   "metadata": {},
   "outputs": [],
   "source": [
    "def evaluate(result, pref, flag):        \n",
    "    \"\"\"\n",
    "    tp: true positives\n",
    "    tn: true negatives\n",
    "    fn: false negativess\n",
    "    fp: false positives\n",
    "    \"\"\"\n",
    "    tp, tn, fn, fp = 0, 0, 0, 0\n",
    "    if flag in [\"icho\", \"kaede\", \"ukoyo1_icho\", \"insec\"]:\n",
    "        correct_period = [date for date in date_range(CORRECTS[pref][flag]['start'], \\\n",
    "                                                      CORRECTS[pref][flag]['end'])]\n",
    "    elif flag in [\"jumoku\", \"sonota\", \"koyo\", \"koyo_icho\"]: \n",
    "        icho_period = [date for date in date_range(CORRECTS[pref]['icho']['start'], \\\n",
    "                                                      CORRECTS[pref]['icho']['end'])]\n",
    "        kaede_period = [date for date in date_range(CORRECTS[pref]['kaede']['start'], \\\n",
    "                                                      CORRECTS[pref]['kaede']['end'])]\n",
    "        \n",
    "        correct_period = icho_period + kaede_period\n",
    "        correct_period = list(set(correct_period))\n",
    "    elif flag in [\"sakura\"]:\n",
    "        correct_period = [date for date in date_range(CORRECTS[pref][flag]['start'], \\\n",
    "                                                      CORRECTS[pref][flag]['end'])]\n",
    "        \n",
    "\n",
    "    for oneday in dates:\n",
    "        if oneday in correct_period:\n",
    "            if result[result['date']==oneday].iloc[0, 1][0] == 1:\n",
    "                tp += 1\n",
    "            elif result[result['date']==oneday].iloc[0, 1][0] == 0:\n",
    "                tn += 1\n",
    "            else:\n",
    "                print(\"error\")\n",
    "        else:\n",
    "            if result[result['date']==oneday].iloc[0, 1][0] == 1:\n",
    "                fp += 1\n",
    "            elif result[result['date']==oneday].iloc[0, 1][0] == 0:\n",
    "                fn += 1\n",
    "            else:\n",
    "                print(\"error\")\n",
    "    \n",
    "    if tp == 0:\n",
    "        recall = precision = fscore = 0\n",
    "    else:\n",
    "        recall = tp / len(correct_period)\n",
    "        precision = tp / (tp + fp)\n",
    "        fscore = (2 * recall * precision) / (recall + precision)\n",
    "    \n",
    "    # 評価値を出す\n",
    "#     print(f\"recall: {recall}\")\n",
    "#     print(f\"precision: {precision}\")\n",
    "    print(f\"F-score: {fscore}\")\n",
    "    \n",
    "    return recall, precision, fscore"
   ]
  },
  {
   "cell_type": "markdown",
   "metadata": {},
   "source": [
    "### F値plot<br>plot_fscores(fscores, rates, pref, flag):"
   ]
  },
  {
   "cell_type": "code",
   "execution_count": 8,
   "metadata": {},
   "outputs": [],
   "source": [
    "def plot_fscores(fscores, rates, pref, flag):\n",
    "    figure_ = plt.figure()  # Figure作成\n",
    "    axes_ = figure_.add_subplot(111)  # Axes作成\n",
    "    axes_.plot(rates, fscores, label='fscores')\n",
    "    \n",
    "#     out_dir = f\"{RESULT_DIR}graph/s{param_s}gamma{param_gamma}/{pref}/\"\n",
    "    fname = f\"fscores_{flag}.png\"\n",
    "    \n",
    "    plt.savefig(out_path + f\"{pref}/\" + fname, format=\"png\", dpi=300)\n",
    "    plt.show()\n",
    "    \n",
    "    plt.close()"
   ]
  },
  {
   "cell_type": "markdown",
   "metadata": {},
   "source": [
    "### F値すべてplot<br>plot_all_fscores(results, pref):"
   ]
  },
  {
   "cell_type": "code",
   "execution_count": 9,
   "metadata": {},
   "outputs": [],
   "source": [
    "def plot_all_fscores(results, pref):\n",
    "    figure_ = plt.figure()  # Figure作成\n",
    "    axes_ = figure_.add_subplot(111)  # Axes作成\n",
    "    \n",
    "#     flags = [\"icho\", \"kaede\", \"sonota\", \"koyo\", \"jumoku\"]\n",
    "    for flag in flags:\n",
    "        axes_.plot(RATES, results.query(f\"flag == '{flag}'\")[\"fscore\"], label=flag)\n",
    "    \n",
    "#     out_dir = f\"{RESULT_DIR}graph/s{param_s}gamma{param_gamma}/{pref}/\"\n",
    "    fname = f\"all_fscores_{pref}.png\"\n",
    "    \n",
    "    plt.legend()\n",
    "    plt.savefig(out_path + f\"{pref}/\" + fname, format=\"png\", dpi=300)\n",
    "    plt.show()\n",
    "    \n",
    "    plt.close()"
   ]
  },
  {
   "cell_type": "markdown",
   "metadata": {},
   "source": [
    "結果1日単位で書き込む<br>save_burst_date(dates, q, pref, flag, rate)"
   ]
  },
  {
   "cell_type": "code",
   "execution_count": 10,
   "metadata": {},
   "outputs": [],
   "source": [
    "def save_burst_date(dates, q, pref, flag, rate):\n",
    "    dir_path = RESULT_DIR + \"busrt_dates/\"\n",
    "    f_name = f\"{pref}_{flag}_{rate}.csv\"\n",
    "    \n",
    "    os.makedirs(dir_path, exist_ok=True)\n",
    "    \n",
    "    with open(dir_path + f_name, mode='w') as f:\n",
    "        for i, date in enumerate(dates):\n",
    "            f.write(f\"{date}, {q[i]}\\n\")"
   ]
  },
  {
   "cell_type": "markdown",
   "metadata": {},
   "source": [
    "# main関数"
   ]
  },
  {
   "cell_type": "markdown",
   "metadata": {},
   "source": [
    "### 格納する変数用意"
   ]
  },
  {
   "cell_type": "code",
   "execution_count": 11,
   "metadata": {},
   "outputs": [
    {
     "data": {
      "text/plain": [
       "{'icho': [[], [], [], [], [], [], [], [], [], []],\n",
       " 'kaede': [[], [], [], [], [], [], [], [], [], []],\n",
       " 'sonota': [[], [], [], [], [], [], [], [], [], []],\n",
       " 'koyo': [[], [], [], [], [], [], [], [], [], []]}"
      ]
     },
     "execution_count": 11,
     "metadata": {},
     "output_type": "execute_result"
    }
   ],
   "source": [
    "target_counts = dict()\n",
    "total_counts = dict()\n",
    "\n",
    "for pref in prefs:\n",
    "    target_counts[pref] = {}\n",
    "    for flag in flags:\n",
    "        target_counts[pref].update({flag: [ [], [], [], [], [], [], [], [], [], [] ]})\n",
    "        \n",
    "target_counts[prefs[0]]"
   ]
  },
  {
   "cell_type": "markdown",
   "metadata": {},
   "source": [
    "### ファイル読み込み"
   ]
  },
  {
   "cell_type": "code",
   "execution_count": 12,
   "metadata": {},
   "outputs": [],
   "source": [
    "for pref, flag in  itertools.product(prefs, flags):\n",
    "    for i, rate in enumerate(RATES):\n",
    "        filename = f\"{pref}_{flag}_{str(rate).zfill(3)}rwords_count.txt\"\n",
    "        with open(rtweets_count_dir+filename, \"r\") as target_file:\n",
    "             target_counts[pref][flag][i] = [line.rstrip('\\n').split('\\t')[1] for line in target_file.readlines()]\n",
    "\n",
    "total_counts = {}   \n",
    "for pref in prefs:\n",
    "    fname = pref + \"_total_dailycount.txt\"\n",
    "    total_counts[pref] = pd.read_csv(total_count_dir + fname, names=(\"date\", \"count\"), header=None, sep='\\t')"
   ]
  },
  {
   "cell_type": "markdown",
   "metadata": {},
   "source": [
    "### 処理部"
   ]
  },
  {
   "cell_type": "code",
   "execution_count": 13,
   "metadata": {},
   "outputs": [
    {
     "name": "stdout",
     "output_type": "stream",
     "text": [
      "tk -------------icho\n",
      "F-score: 0.5581395348837209\n",
      "F-score: 0.5581395348837209\n",
      "F-score: 0.5454545454545454\n",
      "F-score: 0.5581395348837209\n",
      "F-score: 0.5581395348837209\n",
      "F-score: 0.5217391304347826\n",
      "F-score: 0.5333333333333333\n",
      "F-score: 0.5333333333333333\n",
      "F-score: 0.5217391304347826\n",
      "F-score: 0.5333333333333333\n",
      "tk -------------kaede\n",
      "F-score: 0\n",
      "F-score: 0\n",
      "F-score: 0\n",
      "F-score: 0\n",
      "F-score: 0\n",
      "F-score: 0\n",
      "F-score: 0\n",
      "F-score: 0\n",
      "F-score: 0\n",
      "F-score: 0\n",
      "tk -------------sonota\n",
      "F-score: 0.896551724137931\n",
      "F-score: 0.7027027027027027\n",
      "F-score: 0.6666666666666666\n",
      "F-score: 0.7027027027027027\n",
      "F-score: 0.6842105263157895\n",
      "F-score: 0.65\n",
      "F-score: 0.65\n",
      "F-score: 0.5531914893617021\n",
      "F-score: 0.5531914893617021\n",
      "F-score: 0.5531914893617021\n",
      "tk -------------koyo\n",
      "F-score: 0.5777777777777777\n",
      "F-score: 0.5909090909090909\n",
      "F-score: 0.5531914893617021\n",
      "F-score: 0.5531914893617021\n",
      "F-score: 0.5909090909090909\n",
      "F-score: 0.5909090909090909\n",
      "F-score: 0.5652173913043478\n",
      "F-score: 0.5531914893617021\n",
      "F-score: 0.5531914893617021\n",
      "F-score: 0.5416666666666666\n",
      "hk -------------icho\n",
      "F-score: 0\n",
      "F-score: 0\n",
      "F-score: 0\n",
      "F-score: 0\n",
      "F-score: 0\n",
      "F-score: 0\n",
      "F-score: 0\n",
      "F-score: 0\n",
      "F-score: 0\n",
      "F-score: 0\n",
      "hk -------------kaede\n",
      "F-score: 0\n",
      "F-score: 0\n",
      "F-score: 0\n",
      "F-score: 0\n",
      "F-score: 0\n",
      "F-score: 0\n",
      "F-score: 0\n",
      "F-score: 0\n",
      "F-score: 0\n",
      "F-score: 0\n",
      "hk -------------sonota\n",
      "F-score: 0\n",
      "F-score: 0\n",
      "F-score: 0\n",
      "F-score: 0\n",
      "F-score: 0\n",
      "F-score: 0\n",
      "F-score: 0\n",
      "F-score: 0.3076923076923077\n",
      "F-score: 0.2807017543859649\n",
      "F-score: 0.2807017543859649\n",
      "hk -------------koyo\n",
      "F-score: 0\n",
      "F-score: 0\n",
      "F-score: 0.52\n",
      "F-score: 0.52\n",
      "F-score: 0.41935483870967744\n",
      "F-score: 0\n",
      "F-score: 0.41935483870967744\n",
      "F-score: 0.41935483870967744\n",
      "F-score: 0\n",
      "F-score: 0.2807017543859649\n",
      "is -------------icho\n",
      "F-score: 0\n",
      "F-score: 0\n",
      "F-score: 0\n",
      "F-score: 0\n",
      "F-score: 0\n",
      "F-score: 0\n",
      "F-score: 0\n",
      "F-score: 0\n",
      "F-score: 0\n",
      "F-score: 0\n",
      "is -------------kaede\n",
      "F-score: 0\n",
      "F-score: 0\n",
      "F-score: 0\n",
      "F-score: 0\n",
      "F-score: 0\n",
      "F-score: 0\n",
      "F-score: 0\n",
      "F-score: 0\n",
      "F-score: 0\n",
      "F-score: 0\n",
      "is -------------sonota\n",
      "F-score: 0\n",
      "F-score: 0\n",
      "F-score: 0\n",
      "F-score: 0\n",
      "F-score: 0\n",
      "F-score: 0\n",
      "F-score: 0\n",
      "F-score: 0\n",
      "F-score: 0\n",
      "F-score: 0\n",
      "is -------------koyo\n",
      "F-score: 0\n",
      "F-score: 0\n",
      "F-score: 0\n",
      "F-score: 0\n",
      "F-score: 0\n",
      "F-score: 0\n",
      "F-score: 0\n",
      "F-score: 0\n",
      "F-score: 0\n",
      "F-score: 0\n",
      "---------\n",
      "終了\n",
      "---------\n",
      "\n"
     ]
    }
   ],
   "source": [
    "for pref, flag in itertools.product(prefs, flags):\n",
    "    results = pd.DataFrame(columns=[\"rate\", \"fscore\", \"recall\", \"precision\"])\n",
    "    print(f\"{pref} -------------{flag}\")\n",
    "    for i, rate in enumerate(RATES):\n",
    "        \n",
    "        if flag == \"sakura\":\n",
    "            q = burst_detection(target_counts[pref][flag][i], total_counts[pref][\"count\"] )\n",
    "        else:\n",
    "            total = list(total_counts[pref].query(\"date >= '2015-08-15'\")[\"count\"].values)\n",
    "            target = target_counts[pref][flag][i]\n",
    "            if np.all(np.array(target) == '0'): # targetが全て0だとburst_detectionがエラーになる。\n",
    "                q = []\n",
    "                for i in range(len(target)):\n",
    "                    q.append([0.0])\n",
    "            else:\n",
    "                q = burst_detection(target, total)\n",
    "                \n",
    "        if flag == \"sakura\":\n",
    "            dates = sakura_dates\n",
    "        else:\n",
    "            dates = koyo_long_dates\n",
    "        \n",
    "        save_burst_date(dates, q, pref, flag, rate)\n",
    "        plot_migoro(dates, q, pref, flag, rate)\n",
    "\n",
    "        q_dateframe = pd.DataFrame([dates, q]).T\n",
    "        q_dateframe.columns = ['date', 'burst']\n",
    "        \n",
    "        recall, precision, fscore = evaluate(q_dateframe, pref, flag)\n",
    "        \n",
    "        result = pd.Series([rate, fscore, recall, precision], index=[\"rate\", \"fscore\", \"recall\", \"precision\"])\n",
    "        results = results.append(result, ignore_index=True)\n",
    "        \n",
    "    target = flag\n",
    "    os.makedirs(f\"./result_01/scores/{target}/\", exist_ok=True)\n",
    "    results.to_csv(f\"./result_01/scores/{target}/{pref}_{flag}.csv\")  \n",
    "    \n",
    "print(\"---------\\n終了\\n---------\\n\")"
   ]
  },
  {
   "cell_type": "code",
   "execution_count": null,
   "metadata": {},
   "outputs": [],
   "source": []
  }
 ],
 "metadata": {
  "kernelspec": {
   "display_name": "Python 3",
   "language": "python",
   "name": "python3"
  },
  "language_info": {
   "codemirror_mode": {
    "name": "ipython",
    "version": 3
   },
   "file_extension": ".py",
   "mimetype": "text/x-python",
   "name": "python",
   "nbconvert_exporter": "python",
   "pygments_lexer": "ipython3",
   "version": "3.7.9"
  },
  "toc": {
   "base_numbering": 1,
   "nav_menu": {},
   "number_sections": true,
   "sideBar": true,
   "skip_h1_title": false,
   "title_cell": "Table of Contents",
   "title_sidebar": "Contents",
   "toc_cell": false,
   "toc_position": {
    "height": "calc(100% - 180px)",
    "left": "10px",
    "top": "150px",
    "width": "279.391px"
   },
   "toc_section_display": true,
   "toc_window_display": true
  },
  "toc-autonumbering": true,
  "toc-showcode": true,
  "toc-showmarkdowntxt": true,
  "toc-showtags": false
 },
 "nbformat": 4,
 "nbformat_minor": 4
}
